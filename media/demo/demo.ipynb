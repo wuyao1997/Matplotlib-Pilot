{
 "cells": [
  {
   "cell_type": "markdown",
   "metadata": {},
   "source": [
    "## Click the button, snippets will paste in cursor"
   ]
  },
  {
   "cell_type": "code",
   "execution_count": null,
   "metadata": {},
   "outputs": [],
   "source": [
    "# import \n",
    "\n",
    "\n"
   ]
  },
  {
   "cell_type": "code",
   "execution_count": null,
   "metadata": {},
   "outputs": [],
   "source": [
    "from matplotlib import font_manager\n",
    "\n",
    "font_path = 'C:\\\\Windows\\\\Fonts\\\\Times.ttf' # Font path\n",
    "font_manager.fontManager.addfont(font_path)\n",
    "prop = font_manager.FontProperties(fname=font_path)\n",
    "\n",
    "plt.rcParams['font.family'] = prop.get_name()\n",
    "plt.rcParams['mathtext.fontset'] = 'stix' # 'stix' | 'cm'\n",
    "plt.rcParams['font.size'] = 10\n",
    "# set font\n"
   ]
  },
  {
   "cell_type": "code",
   "execution_count": null,
   "metadata": {},
   "outputs": [],
   "source": [
    "fig, ax = plt.subplots(figsize=(3.5, 3))\n",
    "\n",
    "_ = ax.plot(x, y, 'rs-', label='label')\n",
    "_ = ax.legend(frameon=False, loc=0, title='')\n",
    "\n",
    "ax.set_xlabel(\"x/unit\")\n",
    "ax.set_ylabel(\"y/unit\")\n",
    "# line plot\n"
   ]
  },
  {
   "cell_type": "code",
   "execution_count": null,
   "metadata": {},
   "outputs": [],
   "source": [
    "ax.set_xticks([0, 1, 2, 3])\n",
    "ax.set_yticks([-1, 0, 1, 2, 3])\n",
    "# set ticks\n"
   ]
  },
  {
   "cell_type": "code",
   "execution_count": null,
   "metadata": {},
   "outputs": [],
   "source": [
    "# save picture \n",
    "plt.savefig('filename.png', dpi=300, bbox_inches='tight', transparent=False)\n",
    "plt.savefig('filename.eps', bbox_inches='tight', transparent=False)\n",
    "# save\n"
   ]
  },
  {
   "cell_type": "markdown",
   "metadata": {},
   "source": [
    "## More Tools\n",
    "\n",
    "1. View Matplotlib Concept in VS Code\n",
    "2. Some Template\n",
    "3. Define Custom Template"
   ]
  }
 ],
 "metadata": {
  "language_info": {
   "name": "python"
  }
 },
 "nbformat": 4,
 "nbformat_minor": 2
}
